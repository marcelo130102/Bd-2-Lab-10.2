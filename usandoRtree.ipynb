{
 "cells": [
  {
   "cell_type": "code",
   "execution_count": 7,
   "metadata": {},
   "outputs": [],
   "source": [
    "import numpy as np\n",
    "def ED(v1, v2):\n",
    "    return np.linalg.norm(v1-v2)"
   ]
  },
  {
   "cell_type": "code",
   "execution_count": 1,
   "metadata": {},
   "outputs": [],
   "source": [
    "import csv\n",
    "vectores = []\n",
    "with open('vectores.csv', 'r') as csv_file:\n",
    "    csv_reader = csv.reader(csv_file)\n",
    "    for line in csv_reader:\n",
    "        line = [float(x) for x in line]\n",
    "        vectores.append(line)"
   ]
  },
  {
   "cell_type": "code",
   "execution_count": 2,
   "metadata": {},
   "outputs": [],
   "source": [
    "from rtree import index\n",
    "p = index.Property()\n",
    "p.dimension = 128 #D\n",
    "p.buffering_capacity = 10 #M\n",
    "p.dat_extension = 'data'\n",
    "p.idx_extension = 'index'\n",
    "idx = index.Index('128d_index',properties=p)"
   ]
  },
  {
   "cell_type": "code",
   "execution_count": 3,
   "metadata": {},
   "outputs": [],
   "source": [
    "#insertar puntos\n",
    "for i in range(len(vectores)):\n",
    "    idx.insert(i, tuple(vectores[i]))"
   ]
  },
  {
   "cell_type": "code",
   "execution_count": 6,
   "metadata": {},
   "outputs": [
    {
     "name": "stdout",
     "output_type": "stream",
     "text": [
      "Los 10 vecinos mas cercano de Aaron_Eckhart:  [0, 8510, 5823, 1578, 3541, 10244, 1969, 10035, 8167, 8836]\n"
     ]
    }
   ],
   "source": [
    "#retornar los k=10 vecinos de Aaron_Eckhart\n",
    "import face_recognition\n",
    "picture = face_recognition.load_image_file(\"fotos_bd\\lfw\\Aaron_Eckhart\\Aaron_Eckhart_0001.jpg\")\n",
    "q = tuple(face_recognition.face_encodings(picture)[0])\n",
    "lres = list(idx.nearest(coordinates=q, num_results=10))\n",
    "print(\"Los {} vecinos mas cercano de Aaron_Eckhart: \".format(10), lres)"
   ]
  },
  {
   "cell_type": "code",
   "execution_count": 8,
   "metadata": {},
   "outputs": [
    {
     "name": "stdout",
     "output_type": "stream",
     "text": [
      "[0, 1130, 1578, 1969, 3541, 5823, 6884, 8167, 8510, 8836, 10035, 10244]\n"
     ]
    }
   ],
   "source": [
    "picture = face_recognition.load_image_file(\"fotos_bd\\lfw\\Aaron_Eckhart\\Aaron_Eckhart_0001.jpg\")\n",
    "query = np.array(face_recognition.face_encodings(picture)[0])\n",
    "result = []\n",
    "nrows = len(vectores)\n",
    "radio = 0.6\n",
    "for i in range(nrows):\n",
    "    dist = ED(np.array(vectores[i]), query)\n",
    "    if(dist < radio):\n",
    "        result.append(i)\n",
    "print(result)"
   ]
  }
 ],
 "metadata": {
  "interpreter": {
   "hash": "c37efb599109df7f6141be6d2d4b3f1cc2d71502a847654a8251a7430f23bb87"
  },
  "kernelspec": {
   "display_name": "Python 3.9.7 64-bit ('BD2Lab10_2': conda)",
   "language": "python",
   "name": "python3"
  },
  "language_info": {
   "codemirror_mode": {
    "name": "ipython",
    "version": 3
   },
   "file_extension": ".py",
   "mimetype": "text/x-python",
   "name": "python",
   "nbconvert_exporter": "python",
   "pygments_lexer": "ipython3",
   "version": "3.9.7"
  },
  "orig_nbformat": 4
 },
 "nbformat": 4,
 "nbformat_minor": 2
}
